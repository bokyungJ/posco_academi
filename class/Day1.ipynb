{
 "cells": [
  {
   "cell_type": "code",
   "execution_count": 1,
   "id": "d7b881f3",
   "metadata": {
    "scrolled": true
   },
   "outputs": [
    {
     "name": "stdout",
     "output_type": "stream",
     "text": [
      "hello world!\n"
     ]
    }
   ],
   "source": [
    "print('hello world!')"
   ]
  },
  {
   "cell_type": "markdown",
   "id": "ff7f6ec7",
   "metadata": {},
   "source": [
    "## Hello world 출력\n",
    "print()를 사용하여 화면에 hello world를 출력합니다"
   ]
  },
  {
   "cell_type": "markdown",
   "id": "382392ef",
   "metadata": {},
   "source": [
    "*hello*(줄바꿈 - 스페이스 두번)  \n",
    "**hello**  \n",
    "***hello***  "
   ]
  },
  {
   "cell_type": "code",
   "execution_count": 2,
   "id": "c43f1cad",
   "metadata": {},
   "outputs": [
    {
     "name": "stdout",
     "output_type": "stream",
     "text": [
      "Enter your namebk\n",
      "bk\n"
     ]
    }
   ],
   "source": [
    "name = input(\"Enter your name\")\n",
    "print(name)"
   ]
  },
  {
   "cell_type": "code",
   "execution_count": 3,
   "id": "2130ca25",
   "metadata": {},
   "outputs": [
    {
     "data": {
      "text/plain": [
       "str"
      ]
     },
     "execution_count": 3,
     "metadata": {},
     "output_type": "execute_result"
    }
   ],
   "source": [
    "type(name)"
   ]
  },
  {
   "cell_type": "code",
   "execution_count": 4,
   "id": "791be7e0",
   "metadata": {},
   "outputs": [
    {
     "name": "stdout",
     "output_type": "stream",
     "text": [
      "Enter a number : 3\n"
     ]
    }
   ],
   "source": [
    "number = input(\"Enter a number : \")"
   ]
  },
  {
   "cell_type": "code",
   "execution_count": 5,
   "id": "0a6bc564",
   "metadata": {},
   "outputs": [
    {
     "data": {
      "text/plain": [
       "str"
      ]
     },
     "execution_count": 5,
     "metadata": {},
     "output_type": "execute_result"
    }
   ],
   "source": [
    "type(number)"
   ]
  },
  {
   "cell_type": "code",
   "execution_count": 6,
   "id": "b79159ab",
   "metadata": {},
   "outputs": [
    {
     "name": "stdout",
     "output_type": "stream",
     "text": [
      "100 + 200 = 300\n"
     ]
    }
   ],
   "source": [
    "a=100\n",
    "b=200\n",
    "result = a+b\n",
    "print(a,\"+\",b,'=',result)"
   ]
  },
  {
   "cell_type": "code",
   "execution_count": 7,
   "id": "fa80f4a6",
   "metadata": {},
   "outputs": [
    {
     "name": "stdout",
     "output_type": "stream",
     "text": [
      "I ate 10 aplles, so I was sick for three days.\n"
     ]
    }
   ],
   "source": [
    "number = 10\n",
    "day = \"three\"\n",
    "\n",
    "print(\"I ate %d aplles, so I was sick for %s days.\"%(number, day))"
   ]
  },
  {
   "cell_type": "code",
   "execution_count": 19,
   "id": "09897c68",
   "metadata": {},
   "outputs": [
    {
     "name": "stdout",
     "output_type": "stream",
     "text": [
      "화씨온도 : 100\n",
      "섭씨온도 : 37.78\n"
     ]
    }
   ],
   "source": [
    "# 실습1. 화씨 온도를 입력받아서 섭씨 온도로 바꾸기\n",
    "\n",
    "f = float(input(\"화씨온도 : \"))\n",
    "c = (f-32)*5/9\n",
    "\n",
    "print(\"섭씨온도 : {:.2f}\".format(c))"
   ]
  },
  {
   "cell_type": "code",
   "execution_count": 21,
   "id": "4f3582c1",
   "metadata": {},
   "outputs": [
    {
     "name": "stdout",
     "output_type": "stream",
     "text": [
      "투입한 돈 : 5000\n",
      "물건 값 : 2300\n",
      "거스름 돈 :  2700\n",
      "500원짜리 :  5 개\n",
      "100원짜리 :  2 개\n"
     ]
    }
   ],
   "source": [
    "# 실습2. 잔돈계산 - 동전개수 최소\n",
    "\n",
    "money = int(input(\"투입한 돈 : \"))\n",
    "money2 = int(input(\"물건 값 : \"))\n",
    "change = money - money2\n",
    "print(\"거스름 돈 : \", change)\n",
    "\n",
    "num_500 = change//500\n",
    "num_100 = (change-num_500*500)//100\n",
    "print(\"500원짜리 : \",num_500,\"개\")\n",
    "print(\"100원짜리 : \",num_100,\"개\")"
   ]
  },
  {
   "cell_type": "code",
   "execution_count": 22,
   "id": "12c49e5a",
   "metadata": {},
   "outputs": [
    {
     "name": "stdout",
     "output_type": "stream",
     "text": [
      "H\n",
      "o\n"
     ]
    }
   ],
   "source": [
    "# 시퀀스 자료형\n",
    "\n",
    "word = \"Hello\"\n",
    "print(word[0])\n",
    "print(word[-1])"
   ]
  },
  {
   "cell_type": "code",
   "execution_count": 23,
   "id": "3dc262ce",
   "metadata": {},
   "outputs": [
    {
     "name": "stdout",
     "output_type": "stream",
     "text": [
      "He\n"
     ]
    }
   ],
   "source": [
    "print(word[0:2])"
   ]
  },
  {
   "cell_type": "code",
   "execution_count": 25,
   "id": "c7db3b0a",
   "metadata": {},
   "outputs": [
    {
     "name": "stdout",
     "output_type": "stream",
     "text": [
      "12345\n",
      "135\n",
      "24\n",
      "54321\n",
      "531\n"
     ]
    }
   ],
   "source": [
    "word = \"12345\"\n",
    "print(word[:])\n",
    "print(word[::2])\n",
    "print(word[1::2])\n",
    "print(word[::-1])\n",
    "print(word[-1::-2])"
   ]
  },
  {
   "cell_type": "code",
   "execution_count": 26,
   "id": "9dd7ddff",
   "metadata": {},
   "outputs": [
    {
     "data": {
      "text/plain": [
       "True"
      ]
     },
     "execution_count": 26,
     "metadata": {},
     "output_type": "execute_result"
    }
   ],
   "source": [
    "# \"in\" 키워드 - 멤버 확인 키워드\n",
    "\n",
    "word = \"Python\"\n",
    "'o' in word"
   ]
  },
  {
   "cell_type": "code",
   "execution_count": 29,
   "id": "8c9a4585",
   "metadata": {},
   "outputs": [
    {
     "name": "stdout",
     "output_type": "stream",
     "text": [
      "6\n",
      "1\n",
      "5\n",
      "h,e,l,l,o\n"
     ]
    }
   ],
   "source": [
    "print(len(word))\n",
    "print(word.count('n'))\n",
    "print(word.index('n'))\n",
    "s = ','\n",
    "print(s.join('hello'))\n"
   ]
  },
  {
   "cell_type": "code",
   "execution_count": 30,
   "id": "8fb0ce93",
   "metadata": {},
   "outputs": [
    {
     "data": {
      "text/plain": [
       "'o'"
      ]
     },
     "execution_count": 30,
     "metadata": {},
     "output_type": "execute_result"
    }
   ],
   "source": [
    "# 실습3. 문자열의 마지막 문자를 구해서 출력\n",
    "\n",
    "word = \"Hello\"\n",
    "word[len(word)-1]"
   ]
  },
  {
   "cell_type": "code",
   "execution_count": 32,
   "id": "91c8ea4d",
   "metadata": {},
   "outputs": [
    {
     "name": "stdout",
     "output_type": "stream",
     "text": [
      "['python', 'is', 'fun']\n",
      "['one', 'two', 'three']\n"
     ]
    }
   ],
   "source": [
    "# split()\n",
    "\n",
    "s = \"python is fun\"\n",
    "print(s.split())\n",
    "s2 = \"one:two:three\"\n",
    "print(s2.split(\":\"))"
   ]
  },
  {
   "cell_type": "code",
   "execution_count": 33,
   "id": "5e6c0390",
   "metadata": {},
   "outputs": [
    {
     "data": {
      "text/plain": [
       "3"
      ]
     },
     "execution_count": 33,
     "metadata": {},
     "output_type": "execute_result"
    }
   ],
   "source": [
    "# 리스트\n",
    "\n",
    "a = [1,2,3]\n",
    "a[2]"
   ]
  },
  {
   "cell_type": "code",
   "execution_count": 34,
   "id": "5028ac39",
   "metadata": {},
   "outputs": [
    {
     "data": {
      "text/plain": [
       "[1, 2, 8]"
      ]
     },
     "execution_count": 34,
     "metadata": {},
     "output_type": "execute_result"
    }
   ],
   "source": [
    "a[2] = 8\n",
    "a"
   ]
  },
  {
   "cell_type": "code",
   "execution_count": 35,
   "id": "ca4e1d7f",
   "metadata": {},
   "outputs": [
    {
     "data": {
      "text/plain": [
       "[2, 8]"
      ]
     },
     "execution_count": 35,
     "metadata": {},
     "output_type": "execute_result"
    }
   ],
   "source": [
    "del a[0]\n",
    "a"
   ]
  },
  {
   "cell_type": "code",
   "execution_count": 36,
   "id": "bc28e8bd",
   "metadata": {},
   "outputs": [
    {
     "name": "stdout",
     "output_type": "stream",
     "text": [
      "1 2 3\n"
     ]
    }
   ],
   "source": [
    "# 리스트 패킹, 언패킹\n",
    "\n",
    "t = [1,2,3] # 1,2,3을 t에 패킹\n",
    "a,b,c = t # t값 1,2,3을 a,b,c에 언패킹\n",
    "print(a,b,c)\n"
   ]
  },
  {
   "cell_type": "code",
   "execution_count": 38,
   "id": "1c3185d9",
   "metadata": {},
   "outputs": [
    {
     "name": "stdout",
     "output_type": "stream",
     "text": [
      "날짜(연/월/일)입력 : 2021/3/29\n",
      "입력한 날자의 10년 후는 2031년 3월 29일\n"
     ]
    }
   ],
   "source": [
    "# 실습4. 년월일\n",
    "\n",
    "day_input = input(\"날짜(연/월/일)입력 : \")\n",
    "year, month, day = day_input.split('/')\n",
    "print(\"입력한 날자의 10년 후는 {}년 {}월 {}일\".format(int(year)+10, month, day))"
   ]
  },
  {
   "cell_type": "code",
   "execution_count": 45,
   "id": "c5dacc7e",
   "metadata": {},
   "outputs": [
    {
     "data": {
      "text/plain": [
       "[2, 4, 6, 8, 10]"
      ]
     },
     "execution_count": 45,
     "metadata": {},
     "output_type": "execute_result"
    }
   ],
   "source": [
    "list(range(2,11,2))"
   ]
  },
  {
   "cell_type": "code",
   "execution_count": null,
   "id": "2f090a89",
   "metadata": {},
   "outputs": [],
   "source": []
  }
 ],
 "metadata": {
  "kernelspec": {
   "display_name": "Python 3",
   "language": "python",
   "name": "python3"
  },
  "language_info": {
   "codemirror_mode": {
    "name": "ipython",
    "version": 3
   },
   "file_extension": ".py",
   "mimetype": "text/x-python",
   "name": "python",
   "nbconvert_exporter": "python",
   "pygments_lexer": "ipython3",
   "version": "3.8.8"
  }
 },
 "nbformat": 4,
 "nbformat_minor": 5
}
