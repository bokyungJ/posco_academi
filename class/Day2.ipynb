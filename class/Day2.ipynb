{
 "cells": [
  {
   "cell_type": "code",
   "execution_count": 1,
   "id": "a9f25b85",
   "metadata": {},
   "outputs": [],
   "source": [
    "# map(각각 원소에 적용하고 싶은 함수,변경하고 싶은 것)\n"
   ]
  },
  {
   "cell_type": "code",
   "execution_count": 2,
   "id": "66e4b577",
   "metadata": {},
   "outputs": [
    {
     "name": "stdout",
     "output_type": "stream",
     "text": [
      "영어 점수 입력:3\n",
      "수학 점수 입력:3\n"
     ]
    }
   ],
   "source": [
    "# 실습1. 학생수준 평가 시험\n",
    "eng = int(input(\"영어 점수 입력:\"))\n",
    "math = int(input(\"수학 점수 입력:\"))\n",
    "\n",
    "enma = eng + math\n",
    "\n"
   ]
  },
  {
   "cell_type": "code",
   "execution_count": 38,
   "id": "df9fdf0a",
   "metadata": {},
   "outputs": [
    {
     "name": "stdout",
     "output_type": "stream",
     "text": [
      "세개의 수를 입력하시오:30 20 10\n",
      "30\n"
     ]
    }
   ],
   "source": [
    "# 실습2. 가장 큰 수\n",
    "nums = list(map(int, input(\"세개의 수를 입력하시오:\").split()))\n",
    "max_num = nums[0]\n",
    "\n",
    "if nums[1]> max_num:\n",
    "    max_num = nums[1]\n",
    "if nums[2]>max_num:\n",
    "    max_num = nums[2]\n",
    "\n",
    "print(max_num)"
   ]
  },
  {
   "cell_type": "code",
   "execution_count": 5,
   "id": "52ca919a",
   "metadata": {
    "scrolled": true
   },
   "outputs": [
    {
     "name": "stdout",
     "output_type": "stream",
     "text": [
      "1, 2, 3, 4, 5, "
     ]
    }
   ],
   "source": [
    "# 반복문\n",
    "number = 1\n",
    "while number <= 5:\n",
    "    print(number,end=', ')\n",
    "    number+=1\n",
    "    "
   ]
  },
  {
   "cell_type": "code",
   "execution_count": 8,
   "id": "f82fb846",
   "metadata": {},
   "outputs": [
    {
     "name": "stdout",
     "output_type": "stream",
     "text": [
      "55\n"
     ]
    }
   ],
   "source": [
    "num = 1\n",
    "sum_ = 0\n",
    "while num <= 10:\n",
    "    sum_ += num\n",
    "    num += 1\n",
    "print(sum_)"
   ]
  },
  {
   "cell_type": "code",
   "execution_count": 11,
   "id": "090ee312",
   "metadata": {},
   "outputs": [
    {
     "data": {
      "text/plain": [
       "['red']"
      ]
     },
     "execution_count": 11,
     "metadata": {},
     "output_type": "execute_result"
    }
   ],
   "source": [
    "# 리스트\n",
    "colors = list()\n",
    "colors.append('red')\n",
    "colors\n"
   ]
  },
  {
   "cell_type": "code",
   "execution_count": 12,
   "id": "3945dc1c",
   "metadata": {},
   "outputs": [],
   "source": [
    "colors.append(\"green\")\n",
    "colors.append('blue')"
   ]
  },
  {
   "cell_type": "code",
   "execution_count": 13,
   "id": "e853a138",
   "metadata": {},
   "outputs": [
    {
     "data": {
      "text/plain": [
       "['red', 'green', 'blue']"
      ]
     },
     "execution_count": 13,
     "metadata": {},
     "output_type": "execute_result"
    }
   ],
   "source": [
    "colors"
   ]
  },
  {
   "cell_type": "code",
   "execution_count": 16,
   "id": "64177d82",
   "metadata": {},
   "outputs": [
    {
     "data": {
      "text/plain": [
       "['red', 'green', 'blue', 'red']"
      ]
     },
     "execution_count": 16,
     "metadata": {},
     "output_type": "execute_result"
    }
   ],
   "source": [
    "colors.append('red')\n",
    "colors"
   ]
  },
  {
   "cell_type": "code",
   "execution_count": 17,
   "id": "3af9c6c7",
   "metadata": {},
   "outputs": [
    {
     "data": {
      "text/plain": [
       "['green', 'blue', 'red']"
      ]
     },
     "execution_count": 17,
     "metadata": {},
     "output_type": "execute_result"
    }
   ],
   "source": [
    "colors.remove(\"red\")\n",
    "colors\n"
   ]
  },
  {
   "cell_type": "code",
   "execution_count": 18,
   "id": "e6a5afba",
   "metadata": {},
   "outputs": [
    {
     "name": "stdout",
     "output_type": "stream",
     "text": [
      " 없음\n"
     ]
    }
   ],
   "source": [
    "if \"orange\" in colors:\n",
    "    colors.remove(\"orange\")\n",
    "else:\n",
    "    print(\" 없음\")"
   ]
  },
  {
   "cell_type": "code",
   "execution_count": 19,
   "id": "f2d689c9",
   "metadata": {},
   "outputs": [
    {
     "data": {
      "text/plain": [
       "[1, 2, 5, 7, 9]"
      ]
     },
     "execution_count": 19,
     "metadata": {},
     "output_type": "execute_result"
    }
   ],
   "source": [
    "a = [7,1,2,9,5]\n",
    "a.sort() # 리턴값이 없음\n",
    "a\n"
   ]
  },
  {
   "cell_type": "code",
   "execution_count": 20,
   "id": "8aaefdd8",
   "metadata": {},
   "outputs": [
    {
     "data": {
      "text/plain": [
       "[7, 1, 2, 9, 5]"
      ]
     },
     "execution_count": 20,
     "metadata": {},
     "output_type": "execute_result"
    }
   ],
   "source": [
    "a = [7,1,2,9,5]\n",
    "a"
   ]
  },
  {
   "cell_type": "code",
   "execution_count": 21,
   "id": "6d8cf8c9",
   "metadata": {},
   "outputs": [
    {
     "data": {
      "text/plain": [
       "[1, 2, 5, 7, 9]"
      ]
     },
     "execution_count": 21,
     "metadata": {},
     "output_type": "execute_result"
    }
   ],
   "source": [
    "sorted(a) # 리턴값이 있음"
   ]
  },
  {
   "cell_type": "code",
   "execution_count": 22,
   "id": "50414cf0",
   "metadata": {},
   "outputs": [
    {
     "name": "stdout",
     "output_type": "stream",
     "text": [
      "[1, 2, 5, 7, 9]\n",
      "[7, 1, 2, 9, 5]\n"
     ]
    }
   ],
   "source": [
    "a1 = sorted(a)\n",
    "print(a1)\n",
    "print(a) # 원본 보존"
   ]
  },
  {
   "cell_type": "code",
   "execution_count": 24,
   "id": "6c4df13d",
   "metadata": {},
   "outputs": [
    {
     "name": "stdout",
     "output_type": "stream",
     "text": [
      "None\n"
     ]
    }
   ],
   "source": [
    "a2 = a.sort()\n",
    "print(a2)# 리턴값이 없어서"
   ]
  },
  {
   "cell_type": "code",
   "execution_count": 25,
   "id": "66fe5210",
   "metadata": {},
   "outputs": [
    {
     "data": {
      "text/plain": [
       "[1, 2, 3, 4, 5, 6, 7, 8, 9, 10]"
      ]
     },
     "execution_count": 25,
     "metadata": {},
     "output_type": "execute_result"
    }
   ],
   "source": [
    "# 내장함수\n",
    "num_list = list(range(1,11))\n",
    "num_list"
   ]
  },
  {
   "cell_type": "code",
   "execution_count": 26,
   "id": "ad880f83",
   "metadata": {},
   "outputs": [
    {
     "data": {
      "text/plain": [
       "10"
      ]
     },
     "execution_count": 26,
     "metadata": {},
     "output_type": "execute_result"
    }
   ],
   "source": [
    "max(num_list)"
   ]
  },
  {
   "cell_type": "code",
   "execution_count": 27,
   "id": "3826396b",
   "metadata": {},
   "outputs": [
    {
     "data": {
      "text/plain": [
       "55"
      ]
     },
     "execution_count": 27,
     "metadata": {},
     "output_type": "execute_result"
    }
   ],
   "source": [
    "sum(num_list)"
   ]
  },
  {
   "cell_type": "code",
   "execution_count": 29,
   "id": "a493118c",
   "metadata": {},
   "outputs": [
    {
     "name": "stdout",
     "output_type": "stream",
     "text": [
      "Enter a number : 7\n",
      "Enter a number : 2\n",
      "Enter a number : 9\n",
      "Enter a number : 3\n",
      "Enter a number : 5\n",
      "Enter a number : done\n",
      "[7.0, 2.0, 9.0, 3.0, 5.0]\n",
      "Average :  5.2\n",
      "Maximum :  9.0\n",
      "Minimum :  2.0\n"
     ]
    }
   ],
   "source": [
    "# 리스트 실습 1\n",
    "\n",
    "num_list = []\n",
    "\n",
    "while True:\n",
    "    num = input(\"Enter a number : \")\n",
    "    if num == \"done\":\n",
    "        break\n",
    "    else:\n",
    "        num_list.append(float(num))\n",
    "\n",
    "print(num_list)\n",
    "print(\"Average : \", sum(num_list)/len(num_list))\n",
    "print(\"Maximum : \", max(num_list))\n",
    "print(\"Minimum : \", min(num_list))"
   ]
  },
  {
   "cell_type": "code",
   "execution_count": 40,
   "id": "54e146c9",
   "metadata": {},
   "outputs": [
    {
     "name": "stdout",
     "output_type": "stream",
     "text": [
      "Input an integer : 3159\n",
      "***\n",
      "*\n",
      "*****\n",
      "*********\n"
     ]
    }
   ],
   "source": [
    "# 반복문 실습 \n",
    "\n",
    "num = input(\"Input an integer : \")\n",
    "\n",
    "for i in num:\n",
    "    print(\"*\"*int(i))\n",
    "\n",
    "    "
   ]
  },
  {
   "cell_type": "code",
   "execution_count": 41,
   "id": "d19bf44d",
   "metadata": {},
   "outputs": [
    {
     "data": {
      "text/plain": [
       "tuple"
      ]
     },
     "execution_count": 41,
     "metadata": {},
     "output_type": "execute_result"
    }
   ],
   "source": [
    "t = 1,2,3 # 튜플 패킹\n",
    "type(t)"
   ]
  },
  {
   "cell_type": "code",
   "execution_count": 42,
   "id": "3fe96ce6",
   "metadata": {},
   "outputs": [
    {
     "name": "stdout",
     "output_type": "stream",
     "text": [
      "1 2 3\n"
     ]
    }
   ],
   "source": [
    "a,b,c = t 3 # 튜플 언패킹\n",
    "print(a,b,c)"
   ]
  },
  {
   "cell_type": "code",
   "execution_count": 43,
   "id": "c7d1af95",
   "metadata": {},
   "outputs": [
    {
     "data": {
      "text/plain": [
       "'hellohello'"
      ]
     },
     "execution_count": 43,
     "metadata": {},
     "output_type": "execute_result"
    }
   ],
   "source": [
    "word = 'hello'*2\n",
    "word"
   ]
  },
  {
   "cell_type": "code",
   "execution_count": 44,
   "id": "595d2a41",
   "metadata": {},
   "outputs": [
    {
     "data": {
      "text/plain": [
       "['h', 'e', 'l', 'l', 'o', 'h', 'e', 'l', 'l', 'o']"
      ]
     },
     "execution_count": 44,
     "metadata": {},
     "output_type": "execute_result"
    }
   ],
   "source": [
    "word_list = list(word)\n",
    "word_list"
   ]
  },
  {
   "cell_type": "code",
   "execution_count": 45,
   "id": "a6cbee55",
   "metadata": {},
   "outputs": [
    {
     "data": {
      "text/plain": [
       "{'e', 'h', 'l', 'o'}"
      ]
     },
     "execution_count": 45,
     "metadata": {},
     "output_type": "execute_result"
    }
   ],
   "source": [
    "word_set = set(word)\n",
    "word_set"
   ]
  },
  {
   "cell_type": "code",
   "execution_count": 46,
   "id": "e87cdb16",
   "metadata": {},
   "outputs": [],
   "source": [
    "word_set.add(\"hi\")"
   ]
  },
  {
   "cell_type": "code",
   "execution_count": 47,
   "id": "2a626518",
   "metadata": {},
   "outputs": [
    {
     "data": {
      "text/plain": [
       "{'e', 'h', 'hi', 'l', 'o'}"
      ]
     },
     "execution_count": 47,
     "metadata": {},
     "output_type": "execute_result"
    }
   ],
   "source": [
    "word_set"
   ]
  },
  {
   "cell_type": "code",
   "execution_count": 48,
   "id": "7cf669c4",
   "metadata": {},
   "outputs": [
    {
     "data": {
      "text/plain": [
       "{'e', 'h', 'l', 'o'}"
      ]
     },
     "execution_count": 48,
     "metadata": {},
     "output_type": "execute_result"
    }
   ],
   "source": [
    "word_set.remove(\"hi\")\n",
    "word_set"
   ]
  },
  {
   "cell_type": "code",
   "execution_count": 49,
   "id": "38e0e0b3",
   "metadata": {},
   "outputs": [
    {
     "data": {
      "text/plain": [
       "{'e', 'h', 'i', 'j', 'l', 'o'}"
      ]
     },
     "execution_count": 49,
     "metadata": {},
     "output_type": "execute_result"
    }
   ],
   "source": [
    "word_set.update(['h','i','j'])\n",
    "word_set\n"
   ]
  },
  {
   "cell_type": "code",
   "execution_count": 50,
   "id": "356fb57f",
   "metadata": {},
   "outputs": [
    {
     "data": {
      "text/plain": [
       "{'kim': 1}"
      ]
     },
     "execution_count": 50,
     "metadata": {},
     "output_type": "execute_result"
    }
   ],
   "source": [
    "# 딕셔너리\n",
    "\n",
    "d = {}\n",
    "\n",
    "d['kim']=1\n",
    "\n",
    "d"
   ]
  },
  {
   "cell_type": "code",
   "execution_count": 51,
   "id": "8e3f2a66",
   "metadata": {},
   "outputs": [
    {
     "data": {
      "text/plain": [
       "{'kim': 10}"
      ]
     },
     "execution_count": 51,
     "metadata": {},
     "output_type": "execute_result"
    }
   ],
   "source": [
    "d['kim']=10\n",
    "d"
   ]
  },
  {
   "cell_type": "code",
   "execution_count": 52,
   "id": "6947f688",
   "metadata": {},
   "outputs": [
    {
     "data": {
      "text/plain": [
       "{'kim': 10, 'park': 2}"
      ]
     },
     "execution_count": 52,
     "metadata": {},
     "output_type": "execute_result"
    }
   ],
   "source": [
    "d['park']=2\n",
    "d\n"
   ]
  },
  {
   "cell_type": "code",
   "execution_count": 53,
   "id": "9457f5d2",
   "metadata": {},
   "outputs": [
    {
     "data": {
      "text/plain": [
       "{'kim': 10, 'park': 2, 'yoon': 1}"
      ]
     },
     "execution_count": 53,
     "metadata": {},
     "output_type": "execute_result"
    }
   ],
   "source": [
    "d['yoon'] = 1\n",
    "d\n"
   ]
  },
  {
   "cell_type": "code",
   "execution_count": 54,
   "id": "f4fac0f4",
   "metadata": {},
   "outputs": [
    {
     "data": {
      "text/plain": [
       "dict_keys(['kim', 'park', 'yoon'])"
      ]
     },
     "execution_count": 54,
     "metadata": {},
     "output_type": "execute_result"
    }
   ],
   "source": [
    "d.keys() # 리스트형태"
   ]
  },
  {
   "cell_type": "code",
   "execution_count": 55,
   "id": "f70934fe",
   "metadata": {},
   "outputs": [
    {
     "data": {
      "text/plain": [
       "dict_values([10, 2, 1])"
      ]
     },
     "execution_count": 55,
     "metadata": {},
     "output_type": "execute_result"
    }
   ],
   "source": [
    "d.values()"
   ]
  },
  {
   "cell_type": "code",
   "execution_count": 56,
   "id": "16f3c961",
   "metadata": {},
   "outputs": [
    {
     "data": {
      "text/plain": [
       "dict_items([('kim', 10), ('park', 2), ('yoon', 1)])"
      ]
     },
     "execution_count": 56,
     "metadata": {},
     "output_type": "execute_result"
    }
   ],
   "source": [
    "d.items() # 튜플 형태"
   ]
  },
  {
   "cell_type": "code",
   "execution_count": 57,
   "id": "73e76233",
   "metadata": {},
   "outputs": [
    {
     "data": {
      "text/plain": [
       "False"
      ]
     },
     "execution_count": 57,
     "metadata": {},
     "output_type": "execute_result"
    }
   ],
   "source": [
    "'lee' in d"
   ]
  },
  {
   "cell_type": "code",
   "execution_count": 58,
   "id": "05a67f20",
   "metadata": {},
   "outputs": [
    {
     "data": {
      "text/plain": [
       "True"
      ]
     },
     "execution_count": 58,
     "metadata": {},
     "output_type": "execute_result"
    }
   ],
   "source": [
    "'kim' in d"
   ]
  },
  {
   "cell_type": "code",
   "execution_count": 61,
   "id": "9a9e6be5",
   "metadata": {},
   "outputs": [
    {
     "name": "stdout",
     "output_type": "stream",
     "text": [
      "10\n",
      "2\n",
      "1\n"
     ]
    }
   ],
   "source": [
    "for key in d:\n",
    "    print(d[key])"
   ]
  },
  {
   "cell_type": "code",
   "execution_count": 63,
   "id": "bc674b6f",
   "metadata": {},
   "outputs": [
    {
     "name": "stdout",
     "output_type": "stream",
     "text": [
      "10\n",
      "2\n",
      "1\n"
     ]
    }
   ],
   "source": [
    "for key, value in d.items():\n",
    "    print(value)"
   ]
  },
  {
   "cell_type": "code",
   "execution_count": null,
   "id": "cd043ac9",
   "metadata": {},
   "outputs": [],
   "source": []
  }
 ],
 "metadata": {
  "kernelspec": {
   "display_name": "Python 3",
   "language": "python",
   "name": "python3"
  },
  "language_info": {
   "codemirror_mode": {
    "name": "ipython",
    "version": 3
   },
   "file_extension": ".py",
   "mimetype": "text/x-python",
   "name": "python",
   "nbconvert_exporter": "python",
   "pygments_lexer": "ipython3",
   "version": "3.8.8"
  }
 },
 "nbformat": 4,
 "nbformat_minor": 5
}
