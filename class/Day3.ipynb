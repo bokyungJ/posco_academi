{
 "cells": [
  {
   "cell_type": "code",
   "execution_count": 1,
   "id": "6ffa2162",
   "metadata": {},
   "outputs": [
    {
     "data": {
      "text/plain": [
       "{'h': 1, 'e': 1, 'l': 2, 'o': 1}"
      ]
     },
     "execution_count": 1,
     "metadata": {},
     "output_type": "execute_result"
    }
   ],
   "source": [
    "# 딕셔너리\n",
    "\n",
    "sen = 'hello'\n",
    "d = dict()\n",
    "\n",
    "for ch in sen:\n",
    "    if ch in d:\n",
    "        d[ch]+=1\n",
    "    else:\n",
    "        d[ch]=1\n",
    "\n",
    "d\n"
   ]
  },
  {
   "cell_type": "code",
   "execution_count": 3,
   "id": "f19183a8",
   "metadata": {},
   "outputs": [
    {
     "data": {
      "text/plain": [
       "{'o': 1, 'l': 2, 'h': 1, 'e': 1}"
      ]
     },
     "execution_count": 3,
     "metadata": {},
     "output_type": "execute_result"
    }
   ],
   "source": [
    "d = dict()\n",
    "\n",
    "sen_set = set(sen)\n",
    "\n",
    "for ch in sen_set:\n",
    "    d[ch] = sen.count(ch)\n",
    "d"
   ]
  },
  {
   "cell_type": "markdown",
   "id": "53359bb4",
   "metadata": {},
   "source": [
    "# 두번째 선생님\n",
    "## 함수"
   ]
  },
  {
   "cell_type": "code",
   "execution_count": 5,
   "id": "d4a68c6f",
   "metadata": {},
   "outputs": [
    {
     "name": "stdout",
     "output_type": "stream",
     "text": [
      "length_a: 6\n",
      "length_b: 13\n"
     ]
    }
   ],
   "source": [
    "\n",
    "a = [5,5,6,7,8,3]\n",
    "b = \"Life is short\"\n",
    "\n",
    "length_a = 0\n",
    "for i in a:\n",
    "    length_a+=1\n",
    "print(\"length_a:\",length_a) \n",
    "\n",
    "length_b = 0\n",
    "for i in b:\n",
    "    length_b+=1\n",
    "print(\"length_b:\", length_b)"
   ]
  },
  {
   "cell_type": "code",
   "execution_count": 6,
   "id": "f4967762",
   "metadata": {},
   "outputs": [
    {
     "name": "stdout",
     "output_type": "stream",
     "text": [
      "300\n"
     ]
    }
   ],
   "source": [
    "# 함수\n",
    "def add(a,b):\n",
    "    result = a+b\n",
    "    return result\n",
    "\n",
    "add_result = add(100,200)\n",
    "print(add_result)"
   ]
  },
  {
   "cell_type": "code",
   "execution_count": 45,
   "id": "7854b698",
   "metadata": {},
   "outputs": [
    {
     "name": "stdout",
     "output_type": "stream",
     "text": [
      "1\n",
      "9\n",
      "[3, 5, 2]\n"
     ]
    }
   ],
   "source": [
    "# 실습 5\n",
    "def get_min_max(l):\n",
    "    \n",
    "    min_val = min(l)\n",
    "    max_val = max(l)\n",
    "    l.remove(min_val)\n",
    "    # l = l.remove(max_val) -> None 값 remove()의 return값은 None\n",
    "    l.remove(max_val)\n",
    "    \n",
    "    return min_val, max_val\n",
    "\n",
    "l = [3,5,9,1,2]\n",
    "min_val, max_val = get_min_max(l)\n",
    "print(min_val)\n",
    "print(max_val)\n",
    "print(l)"
   ]
  },
  {
   "cell_type": "markdown",
   "id": "25ca5291",
   "metadata": {},
   "source": [
    "## 외장함수"
   ]
  },
  {
   "cell_type": "code",
   "execution_count": 47,
   "id": "ac6453dc",
   "metadata": {},
   "outputs": [
    {
     "data": {
      "text/plain": [
       "'o'"
      ]
     },
     "execution_count": 47,
     "metadata": {},
     "output_type": "execute_result"
    }
   ],
   "source": [
    "import random\n",
    "random.choice(\"hello\")"
   ]
  },
  {
   "cell_type": "code",
   "execution_count": 48,
   "id": "155287a5",
   "metadata": {},
   "outputs": [],
   "source": [
    "import time"
   ]
  },
  {
   "cell_type": "code",
   "execution_count": 56,
   "id": "1fb50bc5",
   "metadata": {},
   "outputs": [
    {
     "name": "stdout",
     "output_type": "stream",
     "text": [
      "{'r': 1, 'e': 2, 'd': 1, ' ': 1, 'a': 1, 'p': 2, 'l': 1}\n",
      "e\n"
     ]
    }
   ],
   "source": [
    "# 실습 8\n",
    "def letter_dict(str_):\n",
    "    d = dict()\n",
    "    \n",
    "    for word in str_:\n",
    "        if word in d:\n",
    "            d[word]+=1\n",
    "        else:\n",
    "            d[word]=1\n",
    "    return d\n",
    "\n",
    "def max_letter(dict_):\n",
    "    max_num = max(dict_.values())\n",
    "    for key in dict_.keys():\n",
    "        if dict_[key]==max_num:\n",
    "            return key\n",
    "\n",
    "a = letter_dict('red apple')\n",
    "print(a)\n",
    "print(max_letter(a))"
   ]
  },
  {
   "cell_type": "code",
   "execution_count": 55,
   "id": "b8ee964e",
   "metadata": {},
   "outputs": [
    {
     "data": {
      "text/plain": [
       "2"
      ]
     },
     "execution_count": 55,
     "metadata": {},
     "output_type": "execute_result"
    }
   ],
   "source": [
    "# 실습 9\n"
   ]
  },
  {
   "cell_type": "markdown",
   "id": "b9162efe",
   "metadata": {},
   "source": [
    "## 파일 입출력"
   ]
  },
  {
   "cell_type": "code",
   "execution_count": 7,
   "id": "41ee6461",
   "metadata": {},
   "outputs": [],
   "source": [
    "# 파일쓰기\n",
    "fw = open(\"new.txt\",'w')\n",
    "\n",
    "for i in range(1,6):\n",
    "    data = \"%d line \\n\"%i\n",
    "    fw.write(data) # 있으면 내용을 다 지우고 처음부터 써짐\n",
    "\n",
    "fw.close()"
   ]
  },
  {
   "cell_type": "code",
   "execution_count": 8,
   "id": "58146998",
   "metadata": {},
   "outputs": [
    {
     "data": {
      "text/plain": [
       "'1 line \\n'"
      ]
     },
     "execution_count": 8,
     "metadata": {},
     "output_type": "execute_result"
    }
   ],
   "source": [
    "# 한 줄 읽기 - readline()\n",
    "fr = open(\"new.txt\",\"r\")\n",
    "\n",
    "# fr.tell # 어디를 읽고있는지 알려줌\n",
    "\n",
    "\n",
    "#fr.clost()"
   ]
  },
  {
   "cell_type": "code",
   "execution_count": 14,
   "id": "55a04903",
   "metadata": {},
   "outputs": [
    {
     "data": {
      "text/plain": [
       "''"
      ]
     },
     "execution_count": 14,
     "metadata": {},
     "output_type": "execute_result"
    }
   ],
   "source": [
    "\n",
    "line = fr.readline()\n",
    "line"
   ]
  },
  {
   "cell_type": "code",
   "execution_count": 15,
   "id": "d3849a91",
   "metadata": {},
   "outputs": [],
   "source": [
    "fr.close()"
   ]
  },
  {
   "cell_type": "code",
   "execution_count": 17,
   "id": "8412e2c2",
   "metadata": {},
   "outputs": [
    {
     "name": "stdout",
     "output_type": "stream",
     "text": [
      "1 line \n",
      "2 line \n",
      "3 line \n",
      "4 line \n",
      "5 line \n"
     ]
    }
   ],
   "source": [
    "fr = open(\"new.txt\",\"r\")\n",
    "\n",
    "while True:\n",
    "    line = fr.readline()\n",
    "    if line=='':\n",
    "        break\n",
    "    print(line, end='')\n",
    "\n",
    "fr.close()"
   ]
  },
  {
   "cell_type": "code",
   "execution_count": 21,
   "id": "9a2c591d",
   "metadata": {},
   "outputs": [],
   "source": [
    "# 모든라인 한번에 읽어서 리스트로 반환 - readlines()\n",
    "f = open(\"new.txt\",'r')\n",
    "\n",
    "line = f.readlines()\n",
    "\n",
    "f.close()"
   ]
  },
  {
   "cell_type": "code",
   "execution_count": null,
   "id": "3a5832f2",
   "metadata": {},
   "outputs": [],
   "source": [
    "# 모든라인 한번에 읽어서 문자열로 반환 - read()\n"
   ]
  },
  {
   "cell_type": "code",
   "execution_count": 24,
   "id": "b9f993f8",
   "metadata": {},
   "outputs": [
    {
     "name": "stdout",
     "output_type": "stream",
     "text": [
      "1 line \n",
      "2 line \n",
      "3 line \n",
      "4 line \n",
      "5 line \n"
     ]
    }
   ],
   "source": [
    "# for문 사용\n",
    "f = open(\"new.txt\",\"r\")\n",
    "\n",
    "for line in f:\n",
    "    print(line,end=\"\")"
   ]
  },
  {
   "cell_type": "code",
   "execution_count": 25,
   "id": "bd204db2",
   "metadata": {},
   "outputs": [],
   "source": [
    "f.close()"
   ]
  },
  {
   "cell_type": "code",
   "execution_count": 26,
   "id": "162b5600",
   "metadata": {},
   "outputs": [],
   "source": [
    "# 내용 추가하기 - a\n",
    "f = open(\"new.txt\",\"a\")\n",
    "\n",
    "f.write(\"hello\")\n",
    "\n",
    "f.close()"
   ]
  },
  {
   "cell_type": "code",
   "execution_count": 27,
   "id": "1be5efc8",
   "metadata": {},
   "outputs": [],
   "source": [
    "# with open() as\n",
    "with open(\"new.txt\",\"w\") as f:\n",
    "    f.write(\"Python is good\")"
   ]
  },
  {
   "cell_type": "code",
   "execution_count": 28,
   "id": "6d623e2f",
   "metadata": {},
   "outputs": [],
   "source": [
    "# 실습\n",
    "with open(\"test.txt\",\"w\") as f:\n",
    "    f.write(\"first line\\nsecond line\\nthird line\")"
   ]
  },
  {
   "cell_type": "code",
   "execution_count": 31,
   "id": "353db838",
   "metadata": {},
   "outputs": [
    {
     "name": "stdout",
     "output_type": "stream",
     "text": [
      "{'hello': 1, 'world': 1, 'line': 3, 'python': 1, 'first': 1, 'third': 1, 'is': 1, 'fun': 1, 'second': 1}\n"
     ]
    }
   ],
   "source": [
    "with open('test.txt','r') as f:\n",
    "    data = f.read().split()\n",
    "    data_set = set(data)\n",
    "    \n",
    "    d = dict()\n",
    "    count = 0\n",
    "    for word in data_set:\n",
    "        for word_ in data:\n",
    "            if word==word_:\n",
    "                count+=1\n",
    "        d[word] = count\n",
    "        count = 0\n",
    "print(d)\n",
    "        "
   ]
  },
  {
   "cell_type": "code",
   "execution_count": 32,
   "id": "45fb4a74",
   "metadata": {},
   "outputs": [
    {
     "data": {
      "text/plain": [
       "['hello', 'hihi', 'bye']"
      ]
     },
     "execution_count": 32,
     "metadata": {},
     "output_type": "execute_result"
    }
   ],
   "source": [
    "data = \"hello\\nhihi\\nbye\"\n",
    "data.split()"
   ]
  },
  {
   "cell_type": "code",
   "execution_count": 34,
   "id": "0dcdf4ec",
   "metadata": {},
   "outputs": [
    {
     "name": "stdout",
     "output_type": "stream",
     "text": [
      "Enter a file name:test.txt\n",
      "FIRST LINE PYTHON IS FUN\n",
      "SECOND LINE HELLO WORLD\n",
      "THIRD LINE\n"
     ]
    }
   ],
   "source": [
    "# 실습\n",
    "import os\n",
    "\n",
    "file_name = input(\"Enter a file name:\")\n",
    "\n",
    "# 파일이 있는지 검사\n",
    "if os.path.exists(file_name):\n",
    "    fr = open(file_name,'r')\n",
    "    data = fr.read()\n",
    "    print(data.upper())\n",
    "else:\n",
    "    print(\"파일이 없습니다\")\n"
   ]
  },
  {
   "cell_type": "code",
   "execution_count": 33,
   "id": "e4051b03",
   "metadata": {},
   "outputs": [
    {
     "data": {
      "text/plain": [
       "True"
      ]
     },
     "execution_count": 33,
     "metadata": {},
     "output_type": "execute_result"
    }
   ],
   "source": [
    "import os\n",
    "os.path.exists(\"test.txt\")"
   ]
  },
  {
   "cell_type": "code",
   "execution_count": null,
   "id": "a3c55846",
   "metadata": {},
   "outputs": [],
   "source": []
  }
 ],
 "metadata": {
  "kernelspec": {
   "display_name": "Python 3",
   "language": "python",
   "name": "python3"
  },
  "language_info": {
   "codemirror_mode": {
    "name": "ipython",
    "version": 3
   },
   "file_extension": ".py",
   "mimetype": "text/x-python",
   "name": "python",
   "nbconvert_exporter": "python",
   "pygments_lexer": "ipython3",
   "version": "3.8.8"
  }
 },
 "nbformat": 4,
 "nbformat_minor": 5
}
