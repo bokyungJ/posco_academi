{
 "cells": [
  {
   "cell_type": "markdown",
   "id": "2e75352a",
   "metadata": {},
   "source": [
    "## [딕셔너리] 문제1"
   ]
  },
  {
   "cell_type": "code",
   "execution_count": 1,
   "id": "760a6acb",
   "metadata": {},
   "outputs": [
    {
     "name": "stdout",
     "output_type": "stream",
     "text": [
      "1 2 10 "
     ]
    }
   ],
   "source": [
    "d = {'yoon':1,'park':2,'kim':10}\n",
    "\n",
    "for key in d:\n",
    "    print(d[key], end=' ')"
   ]
  },
  {
   "cell_type": "markdown",
   "id": "bfc50ecf",
   "metadata": {},
   "source": [
    "## [딕셔너리] 문제2"
   ]
  },
  {
   "cell_type": "code",
   "execution_count": 15,
   "id": "21d74866",
   "metadata": {},
   "outputs": [
    {
     "name": "stdout",
     "output_type": "stream",
     "text": [
      "five 5\n",
      "four 4\n",
      "one 1\n",
      "three 3\n",
      "two 2\n"
     ]
    }
   ],
   "source": [
    "d = {'one':1,'two':2,'three':3,'four':4,'five':5}\n",
    "\n",
    "keys = list(d.keys())\n",
    "keys = sorted(keys)\n",
    "\n",
    "for key in keys:\n",
    "    print(key,d[key])"
   ]
  },
  {
   "cell_type": "markdown",
   "id": "c06b11df",
   "metadata": {},
   "source": [
    "## [딕셔너리] 문제3"
   ]
  },
  {
   "cell_type": "code",
   "execution_count": 19,
   "id": "995bbac2",
   "metadata": {},
   "outputs": [
    {
     "name": "stdout",
     "output_type": "stream",
     "text": [
      "Enter a sentence:Python is fun!\n",
      "{'i': 1, 'o': 1, 'h': 1, 's': 1, 'u': 1, 'f': 1, '!': 1, ' ': 2, 't': 1, 'n': 2, 'y': 1, 'P': 1}\n"
     ]
    }
   ],
   "source": [
    "st = input(\"Enter a sentence:\")\n",
    "\n",
    "st_set = set(st)\n",
    "\n",
    "d = {}\n",
    "count = 0\n",
    "for i in st_set:\n",
    "    for j in st:\n",
    "        if i==j:\n",
    "            count+=1\n",
    "    d[i]=count\n",
    "    count=0\n",
    "print(d)"
   ]
  },
  {
   "cell_type": "code",
   "execution_count": null,
   "id": "e81b050a",
   "metadata": {},
   "outputs": [],
   "source": []
  }
 ],
 "metadata": {
  "kernelspec": {
   "display_name": "Python 3",
   "language": "python",
   "name": "python3"
  },
  "language_info": {
   "codemirror_mode": {
    "name": "ipython",
    "version": 3
   },
   "file_extension": ".py",
   "mimetype": "text/x-python",
   "name": "python",
   "nbconvert_exporter": "python",
   "pygments_lexer": "ipython3",
   "version": "3.8.8"
  }
 },
 "nbformat": 4,
 "nbformat_minor": 5
}
