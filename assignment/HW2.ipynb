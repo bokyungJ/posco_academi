{
 "cells": [
  {
   "cell_type": "markdown",
   "id": "75d3c855",
   "metadata": {},
   "source": [
    "## [조건문] 문제 1"
   ]
  },
  {
   "cell_type": "code",
   "execution_count": 2,
   "id": "f6a54513",
   "metadata": {},
   "outputs": [
    {
     "name": "stdout",
     "output_type": "stream",
     "text": [
      "Enter a number: 14\n",
      "14 is Even number\n"
     ]
    }
   ],
   "source": [
    "number = int(input(\"Enter a number: \"))\n",
    "\n",
    "if number%2 == 0:\n",
    "    print(\"{} is Even number\".format(number))\n",
    "else : \n",
    "    print(\"{} is Odd number\".format(number))"
   ]
  },
  {
   "cell_type": "markdown",
   "id": "422fd218",
   "metadata": {},
   "source": [
    "## [조건문] 문제 2"
   ]
  },
  {
   "cell_type": "code",
   "execution_count": 3,
   "id": "1a5ee498",
   "metadata": {},
   "outputs": [
    {
     "name": "stdout",
     "output_type": "stream",
     "text": [
      "Enter your midterm score:77\n",
      "Enter your final socre:56\n",
      "Average: 66.5\n",
      "Grade: D\n"
     ]
    }
   ],
   "source": [
    "mid_score = int(input(\"Enter your midterm score:\"))\n",
    "fin_score = int(input(\"Enter your final socre:\"))\n",
    "\n",
    "avg = (mid_score+fin_score)/2\n",
    "\n",
    "if avg>=90:\n",
    "    grade = 'A'\n",
    "elif (avg<90) and (avg>=80):\n",
    "    grade = 'B'\n",
    "elif (avg<80) and (avg>=70):\n",
    "    grade = 'C'\n",
    "elif (avg<70) and (avg>=60):\n",
    "    grade = 'D'\n",
    "elif avg<60:\n",
    "    grade = 'F'\n",
    "    \n",
    "print(\"Average:\",avg)\n",
    "print(\"Grade:\",grade)"
   ]
  },
  {
   "cell_type": "markdown",
   "id": "7327914d",
   "metadata": {},
   "source": [
    "## [조건문] 문제 3"
   ]
  },
  {
   "cell_type": "code",
   "execution_count": 8,
   "id": "7057f214",
   "metadata": {},
   "outputs": [
    {
     "name": "stdout",
     "output_type": "stream",
     "text": [
      "Enter your english test score:100\n",
      "Enter your math test score:100\n",
      "합격\n"
     ]
    }
   ],
   "source": [
    "eng = int(input(\"Enter your english test score:\"))\n",
    "math = int(input(\"Enter your math test score:\"))\n",
    "\n",
    "all_score = eng+math\n",
    "\n",
    "if all_score>=110:\n",
    "    if eng<40 or math<40:\n",
    "        print(\"불합격\")\n",
    "    else : \n",
    "        print(\"합격\")\n",
    "else:\n",
    "    print(\"불합격\")"
   ]
  },
  {
   "cell_type": "markdown",
   "id": "38942d45",
   "metadata": {},
   "source": [
    "## [조건문] 문제 4"
   ]
  },
  {
   "cell_type": "code",
   "execution_count": 14,
   "id": "e6bd82f8",
   "metadata": {},
   "outputs": [
    {
     "name": "stdout",
     "output_type": "stream",
     "text": [
      "세 개의 수를 입력하시오:50 20 30\n",
      "가장 큰 수는 50입니다.\n"
     ]
    }
   ],
   "source": [
    "a, b, c = map(int, input(\"세 개의 수를 입력하시오:\").split())\n",
    "\n",
    "max_num = a\n",
    "if max_num<b:\n",
    "    max_num = b\n",
    "if max_num<c:\n",
    "    max_num = c\n",
    "\n",
    "print(\"가장 큰 수는 {}입니다.\".format(max_num))"
   ]
  },
  {
   "cell_type": "markdown",
   "id": "02a77beb",
   "metadata": {},
   "source": [
    "## [반복문] 문제1 -while"
   ]
  },
  {
   "cell_type": "code",
   "execution_count": 17,
   "id": "dd35cbc7",
   "metadata": {},
   "outputs": [
    {
     "name": "stdout",
     "output_type": "stream",
     "text": [
      "P\n",
      "y\n",
      "t\n",
      "h\n",
      "o\n",
      "n\n"
     ]
    }
   ],
   "source": [
    "word = \"Python\"\n",
    "\n",
    "i = 0\n",
    "while i<len(word):\n",
    "    print(word[i])\n",
    "    i+=1"
   ]
  },
  {
   "cell_type": "markdown",
   "id": "ab4c705e",
   "metadata": {},
   "source": [
    "## [반복문] 문제1 - for"
   ]
  },
  {
   "cell_type": "code",
   "execution_count": 16,
   "id": "4d9b7d2e",
   "metadata": {},
   "outputs": [
    {
     "name": "stdout",
     "output_type": "stream",
     "text": [
      "P\n",
      "y\n",
      "t\n",
      "h\n",
      "o\n",
      "n\n"
     ]
    }
   ],
   "source": [
    "word = \"Python\"\n",
    "\n",
    "for i in word:\n",
    "    print(i)"
   ]
  },
  {
   "cell_type": "markdown",
   "id": "ce2e20b8",
   "metadata": {},
   "source": [
    "## [반복문] 문제2"
   ]
  },
  {
   "cell_type": "code",
   "execution_count": 18,
   "id": "dacd5951",
   "metadata": {},
   "outputs": [
    {
     "name": "stdout",
     "output_type": "stream",
     "text": [
      "10, 9, 8, 7, 6, 5, 4, 3, 2, 1, Happy new year!!\n"
     ]
    }
   ],
   "source": [
    "for i in range(10,0,-1):\n",
    "    print(i,end=', ')\n",
    "print(\"Happy new year!!\")"
   ]
  },
  {
   "cell_type": "markdown",
   "id": "0c449011",
   "metadata": {},
   "source": [
    "## [반복문] 문제3"
   ]
  },
  {
   "cell_type": "code",
   "execution_count": 19,
   "id": "bce246cf",
   "metadata": {},
   "outputs": [
    {
     "name": "stdout",
     "output_type": "stream",
     "text": [
      "Enter two integers:5 10\n",
      "The sum from 5 to 10 is 45\n"
     ]
    }
   ],
   "source": [
    "a, b = map(int, input(\"Enter two integers:\").split())\n",
    "\n",
    "sum_ = 0\n",
    "for i in range(a, b+1):\n",
    "    sum_+=i\n",
    "print(\"The sum from {} to {} is {}\".format(a,b,sum_))"
   ]
  },
  {
   "cell_type": "markdown",
   "id": "562eab34",
   "metadata": {},
   "source": [
    "## [반복문] 문제4"
   ]
  },
  {
   "cell_type": "code",
   "execution_count": 20,
   "id": "e4ad596c",
   "metadata": {},
   "outputs": [
    {
     "name": "stdout",
     "output_type": "stream",
     "text": [
      "3\n"
     ]
    }
   ],
   "source": [
    "word = 'banana'\n",
    "count = 0\n",
    "for i in word:\n",
    "    if i=='a':\n",
    "        count+=1\n",
    "\n",
    "print(count)"
   ]
  },
  {
   "cell_type": "markdown",
   "id": "331741d4",
   "metadata": {},
   "source": [
    "## [반복문] 문제5"
   ]
  },
  {
   "cell_type": "code",
   "execution_count": 21,
   "id": "53e5a39e",
   "metadata": {},
   "outputs": [
    {
     "name": "stdout",
     "output_type": "stream",
     "text": [
      "0 1 2 3 4 5 6 7 8 9 "
     ]
    }
   ],
   "source": [
    "# 0 1 2 3 4 5 6 7 8 9\n",
    "for i in range(10):\n",
    "    print(i, end=' ')"
   ]
  },
  {
   "cell_type": "code",
   "execution_count": 22,
   "id": "a0ced7be",
   "metadata": {},
   "outputs": [
    {
     "name": "stdout",
     "output_type": "stream",
     "text": [
      "0 5 10 15 20 25 30 35 40 45 50 "
     ]
    }
   ],
   "source": [
    "# 0 5 10 15 20 25 30 35 40 45 50\n",
    "for i in range(0,55,5):\n",
    "    print(i, end=' ')"
   ]
  },
  {
   "cell_type": "code",
   "execution_count": 23,
   "id": "e7c8591d",
   "metadata": {},
   "outputs": [
    {
     "name": "stdout",
     "output_type": "stream",
     "text": [
      "10 9 8 7 6 5 4 3 2 1 "
     ]
    }
   ],
   "source": [
    "# 10 9 8 7 6 5 4 3 2 1\n",
    "for i in range(10, 0, -1):\n",
    "    print(i, end=' ')"
   ]
  },
  {
   "cell_type": "markdown",
   "id": "2e86527f",
   "metadata": {},
   "source": [
    "## [반복문] 문제6"
   ]
  },
  {
   "cell_type": "code",
   "execution_count": 24,
   "id": "528bc1ac",
   "metadata": {},
   "outputs": [
    {
     "name": "stdout",
     "output_type": "stream",
     "text": [
      "red\n",
      "green\n",
      "blue\n"
     ]
    }
   ],
   "source": [
    "colors = ['red','green','blue']\n",
    "for i in colors:\n",
    "    print(i)"
   ]
  },
  {
   "cell_type": "markdown",
   "id": "f66eb5e5",
   "metadata": {},
   "source": [
    "## [반복문] 문제7"
   ]
  },
  {
   "cell_type": "code",
   "execution_count": 25,
   "id": "605c8dd8",
   "metadata": {},
   "outputs": [
    {
     "name": "stdout",
     "output_type": "stream",
     "text": [
      "4 6 8 10 12 "
     ]
    }
   ],
   "source": [
    "a = [1,3,4,5,6,7,8,9,10,11,12,13]\n",
    "for i in a:\n",
    "    if i%2==0:\n",
    "        print(i,end=' ')"
   ]
  },
  {
   "cell_type": "markdown",
   "id": "536a9c78",
   "metadata": {},
   "source": [
    "## [반복문] 문제8"
   ]
  },
  {
   "cell_type": "code",
   "execution_count": 26,
   "id": "d37c7a5f",
   "metadata": {},
   "outputs": [
    {
     "name": "stdout",
     "output_type": "stream",
     "text": [
      "출력하고 싶은 단을 입력하세요:7\n",
      "7*1=7\n",
      "7*2=14\n",
      "7*3=21\n",
      "7*4=28\n",
      "7*5=35\n",
      "7*6=42\n",
      "7*7=49\n",
      "7*8=56\n",
      "7*9=63\n"
     ]
    }
   ],
   "source": [
    "num = int(input(\"출력하고 싶은 단을 입력하세요:\"))\n",
    "\n",
    "for i in range(1,10):\n",
    "    print(\"{}*{}={}\".format(num,i,num*i))"
   ]
  },
  {
   "cell_type": "markdown",
   "id": "fb2a3713",
   "metadata": {},
   "source": [
    "## [반복문] 문제9"
   ]
  },
  {
   "cell_type": "code",
   "execution_count": 27,
   "id": "2e42d572",
   "metadata": {},
   "outputs": [
    {
     "name": "stdout",
     "output_type": "stream",
     "text": [
      "==2단==\n",
      "2*1=2\n",
      "2*2=4\n",
      "2*3=6\n",
      "2*4=8\n",
      "2*5=10\n",
      "2*6=12\n",
      "2*7=14\n",
      "2*8=16\n",
      "2*9=18\n",
      "==3단==\n",
      "3*1=3\n",
      "3*2=6\n",
      "3*3=9\n",
      "3*4=12\n",
      "3*5=15\n",
      "3*6=18\n",
      "3*7=21\n",
      "3*8=24\n",
      "3*9=27\n",
      "==4단==\n",
      "4*1=4\n",
      "4*2=8\n",
      "4*3=12\n",
      "4*4=16\n",
      "4*5=20\n",
      "4*6=24\n",
      "4*7=28\n",
      "4*8=32\n",
      "4*9=36\n",
      "==5단==\n",
      "5*1=5\n",
      "5*2=10\n",
      "5*3=15\n",
      "5*4=20\n",
      "5*5=25\n",
      "5*6=30\n",
      "5*7=35\n",
      "5*8=40\n",
      "5*9=45\n",
      "==6단==\n",
      "6*1=6\n",
      "6*2=12\n",
      "6*3=18\n",
      "6*4=24\n",
      "6*5=30\n",
      "6*6=36\n",
      "6*7=42\n",
      "6*8=48\n",
      "6*9=54\n",
      "==7단==\n",
      "7*1=7\n",
      "7*2=14\n",
      "7*3=21\n",
      "7*4=28\n",
      "7*5=35\n",
      "7*6=42\n",
      "7*7=49\n",
      "7*8=56\n",
      "7*9=63\n",
      "==8단==\n",
      "8*1=8\n",
      "8*2=16\n",
      "8*3=24\n",
      "8*4=32\n",
      "8*5=40\n",
      "8*6=48\n",
      "8*7=56\n",
      "8*8=64\n",
      "8*9=72\n",
      "==9단==\n",
      "9*1=9\n",
      "9*2=18\n",
      "9*3=27\n",
      "9*4=36\n",
      "9*5=45\n",
      "9*6=54\n",
      "9*7=63\n",
      "9*8=72\n",
      "9*9=81\n"
     ]
    }
   ],
   "source": [
    "for i in range(2,10):\n",
    "    print(\"=={}단==\".format(i))\n",
    "    for j in range(1,10):\n",
    "        print(\"{}*{}={}\".format(i,j,i*j))"
   ]
  },
  {
   "cell_type": "markdown",
   "id": "d51f5a32",
   "metadata": {},
   "source": [
    "## [반복문] 문제10"
   ]
  },
  {
   "cell_type": "code",
   "execution_count": 34,
   "id": "d2ab5755",
   "metadata": {},
   "outputs": [
    {
     "name": "stdout",
     "output_type": "stream",
     "text": [
      "2*1=2  3*1=3  4*1=4  5*1=5  6*1=6  7*1=7  8*1=8  9*1=9  \n",
      "2*2=4  3*2=6  4*2=8  5*2=10 6*2=12 7*2=14 8*2=16 9*2=18 \n",
      "2*3=6  3*3=9  4*3=12 5*3=15 6*3=18 7*3=21 8*3=24 9*3=27 \n",
      "2*4=8  3*4=12 4*4=16 5*4=20 6*4=24 7*4=28 8*4=32 9*4=36 \n",
      "2*5=10 3*5=15 4*5=20 5*5=25 6*5=30 7*5=35 8*5=40 9*5=45 \n",
      "2*6=12 3*6=18 4*6=24 5*6=30 6*6=36 7*6=42 8*6=48 9*6=54 \n",
      "2*7=14 3*7=21 4*7=28 5*7=35 6*7=42 7*7=49 8*7=56 9*7=63 \n",
      "2*8=16 3*8=24 4*8=32 5*8=40 6*8=48 7*8=56 8*8=64 9*8=72 \n",
      "2*9=18 3*9=27 4*9=36 5*9=45 6*9=54 7*9=63 8*9=72 9*9=81 \n"
     ]
    }
   ],
   "source": [
    "for i in range(1,10):\n",
    "    for j in range(2,10):\n",
    "        if j*i<10:\n",
    "            print(\"{}*{}={}\".format(j,i,j*i), end='  ')\n",
    "        else:\n",
    "            print(\"{}*{}={}\".format(j,i,j*i), end=' ')\n",
    "    print()"
   ]
  },
  {
   "cell_type": "markdown",
   "id": "eaa06f5a",
   "metadata": {},
   "source": [
    "## [반복문] 문제11"
   ]
  },
  {
   "cell_type": "code",
   "execution_count": 29,
   "id": "9b7d5925",
   "metadata": {},
   "outputs": [
    {
     "name": "stdout",
     "output_type": "stream",
     "text": [
      "Input an integer : 3159\n",
      "***\n",
      "*\n",
      "*****\n",
      "*********\n"
     ]
    }
   ],
   "source": [
    "num = input(\"Input an integer : \")\n",
    "\n",
    "for i in num:\n",
    "    print(\"*\"*int(i))"
   ]
  },
  {
   "cell_type": "markdown",
   "id": "78df73a8",
   "metadata": {},
   "source": [
    "## [반복문] 문제12"
   ]
  },
  {
   "cell_type": "code",
   "execution_count": 30,
   "id": "cc6b9acc",
   "metadata": {},
   "outputs": [
    {
     "name": "stdout",
     "output_type": "stream",
     "text": [
      "Enter a number : 7\n",
      "Enter a number : 2\n",
      "Enter a number : 9\n",
      "Enter a number : 3\n",
      "Enter a number : 5\n",
      "Enter a number : done\n",
      "[7.0, 2.0, 9.0, 3.0, 5.0]\n",
      "Average :  5.2\n",
      "Maximum :  9.0\n",
      "Minimum :  2.0\n"
     ]
    }
   ],
   "source": [
    "num_list = []\n",
    "\n",
    "while True:\n",
    "    num = input(\"Enter a number : \")\n",
    "    if num == \"done\":\n",
    "        break\n",
    "    else:\n",
    "        num_list.append(float(num))\n",
    "\n",
    "print(num_list)\n",
    "print(\"Average : \", sum(num_list)/len(num_list))\n",
    "print(\"Maximum : \", max(num_list))\n",
    "print(\"Minimum : \", min(num_list))"
   ]
  },
  {
   "cell_type": "code",
   "execution_count": null,
   "id": "542d5df6",
   "metadata": {},
   "outputs": [],
   "source": []
  }
 ],
 "metadata": {
  "kernelspec": {
   "display_name": "Python 3",
   "language": "python",
   "name": "python3"
  },
  "language_info": {
   "codemirror_mode": {
    "name": "ipython",
    "version": 3
   },
   "file_extension": ".py",
   "mimetype": "text/x-python",
   "name": "python",
   "nbconvert_exporter": "python",
   "pygments_lexer": "ipython3",
   "version": "3.8.8"
  }
 },
 "nbformat": 4,
 "nbformat_minor": 5
}
