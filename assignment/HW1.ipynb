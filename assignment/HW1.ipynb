{
 "cells": [
  {
   "cell_type": "markdown",
   "id": "4a182da1",
   "metadata": {},
   "source": [
    "## 문제1"
   ]
  },
  {
   "cell_type": "code",
   "execution_count": 1,
   "id": "0003fc49",
   "metadata": {},
   "outputs": [
    {
     "name": "stdout",
     "output_type": "stream",
     "text": [
      "화씨온도 : 100\n",
      "섭씨온도 : 37.78\n"
     ]
    }
   ],
   "source": [
    "# 실습1. 화씨 온도를 입력받아서 섭씨 온도로 바꾸기\n",
    "\n",
    "f = float(input(\"화씨온도 : \"))\n",
    "c = (f-32)*5/9\n",
    "\n",
    "print(\"섭씨온도 : {:.2f}\".format(c))"
   ]
  },
  {
   "cell_type": "markdown",
   "id": "5e36062c",
   "metadata": {},
   "source": [
    "## 문제2"
   ]
  },
  {
   "cell_type": "code",
   "execution_count": 2,
   "id": "62cd8140",
   "metadata": {},
   "outputs": [
    {
     "name": "stdout",
     "output_type": "stream",
     "text": [
      "투입한 돈 : 5000\n",
      "물건 값 : 2700\n",
      "거스름 돈 :  2300\n",
      "500원짜리 :  4 개\n",
      "100원짜리 :  3 개\n"
     ]
    }
   ],
   "source": [
    "# 실습2. 잔돈계산 - 동전개수 최소\n",
    "\n",
    "money = int(input(\"투입한 돈 : \"))\n",
    "money2 = int(input(\"물건 값 : \"))\n",
    "change = money - money2\n",
    "print(\"거스름 돈 : \", change)\n",
    "\n",
    "num_500 = change//500\n",
    "num_100 = (change-num_500*500)//100\n",
    "print(\"500원짜리 : \",num_500,\"개\")\n",
    "print(\"100원짜리 : \",num_100,\"개\")\n"
   ]
  },
  {
   "cell_type": "markdown",
   "id": "feca6005",
   "metadata": {},
   "source": [
    "## 문제3"
   ]
  },
  {
   "cell_type": "code",
   "execution_count": 3,
   "id": "0373773e",
   "metadata": {},
   "outputs": [
    {
     "name": "stdout",
     "output_type": "stream",
     "text": [
      "반지름을 입력하시오 : 5\n",
      "원 둘레:31.42\n",
      "원 넓이:78.54\n"
     ]
    }
   ],
   "source": [
    "# 실습3. 원의 둘레와 넓이 구하기\n",
    "\n",
    "r = float(input(\"반지름을 입력하시오 : \"))\n",
    "pi = 3.141592\n",
    "print(\"원 둘레:{:.2f}\".format(2*pi*r))\n",
    "print(\"원 넓이:{:.2f}\".format(pi*r**2))"
   ]
  },
  {
   "cell_type": "markdown",
   "id": "70ceed93",
   "metadata": {},
   "source": [
    "## 문제4"
   ]
  },
  {
   "cell_type": "code",
   "execution_count": 7,
   "id": "93d24a9c",
   "metadata": {},
   "outputs": [
    {
     "name": "stdout",
     "output_type": "stream",
     "text": [
      "Enter two integers:8 5\n",
      "8 + 5 = 13\n",
      "8 - 5 = 3\n",
      "8 * 5 = 40\n",
      "8 / 5 = 1.6\n",
      "8 % 5 = 3\n"
     ]
    }
   ],
   "source": [
    "a,b = map(int,input(\"Enter two integers:\").split())\n",
    "print(a,\"+\",b,\"=\",a+b)\n",
    "print(a,\"-\",b,\"=\",a-b)\n",
    "print(a,\"*\",b,\"=\",a*b)\n",
    "print(a,\"/\",b,\"=\",a/b)\n",
    "print(a,\"%\",b,\"=\",a%b)"
   ]
  },
  {
   "cell_type": "markdown",
   "id": "e2109536",
   "metadata": {},
   "source": [
    "## 문제5"
   ]
  },
  {
   "cell_type": "code",
   "execution_count": 16,
   "id": "e812e208",
   "metadata": {},
   "outputs": [
    {
     "name": "stdout",
     "output_type": "stream",
     "text": [
      "Enter two integers:70 91\n",
      "The sum of 70 and 91 is 161\n",
      "The average of numbers is 80.5\n"
     ]
    }
   ],
   "source": [
    "a,b = map(int,input(\"Enter two integers:\").split())\n",
    "print(\"The sum of {} and {} is {}\".format(a,b,a+b))\n",
    "print(\"The average of numbers is {:.1f}\".format((a+b)/2))"
   ]
  },
  {
   "cell_type": "markdown",
   "id": "1c26206c",
   "metadata": {},
   "source": [
    "## 문제6"
   ]
  },
  {
   "cell_type": "code",
   "execution_count": 18,
   "id": "8e77ebcf",
   "metadata": {},
   "outputs": [
    {
     "name": "stdout",
     "output_type": "stream",
     "text": [
      "날짜(연/월/일)입력 : 2021/10/08\n",
      "입력한 날짜의 10년 후는 2031년 10월 08일\n"
     ]
    }
   ],
   "source": [
    "day_input = input(\"날짜(연/월/일)입력 : \")\n",
    "year, month, day = day_input.split('/')\n",
    "print(\"입력한 날짜의 10년 후는 {}년 {}월 {}일\".format(int(year)+10, month, day))"
   ]
  },
  {
   "cell_type": "code",
   "execution_count": null,
   "id": "e93f96be",
   "metadata": {},
   "outputs": [],
   "source": []
  }
 ],
 "metadata": {
  "kernelspec": {
   "display_name": "Python 3",
   "language": "python",
   "name": "python3"
  },
  "language_info": {
   "codemirror_mode": {
    "name": "ipython",
    "version": 3
   },
   "file_extension": ".py",
   "mimetype": "text/x-python",
   "name": "python",
   "nbconvert_exporter": "python",
   "pygments_lexer": "ipython3",
   "version": "3.8.8"
  }
 },
 "nbformat": 4,
 "nbformat_minor": 5
}
