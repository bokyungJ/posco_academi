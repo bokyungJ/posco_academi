{
 "cells": [
  {
   "cell_type": "markdown",
   "id": "87bc97fe",
   "metadata": {},
   "source": [
    "## 문제 1"
   ]
  },
  {
   "cell_type": "code",
   "execution_count": 4,
   "id": "712d1ca2",
   "metadata": {},
   "outputs": [
    {
     "name": "stdout",
     "output_type": "stream",
     "text": [
      "{'first': 1, 'line': 3, 'second': 1, 'third': 1}\n"
     ]
    }
   ],
   "source": [
    "f = open('test.txt','r')\n",
    "data = f.read().split()\n",
    "\n",
    "d = dict()\n",
    "\n",
    "for word in data:\n",
    "    if word in d:\n",
    "        d[word]+=1\n",
    "    else:\n",
    "        d[word]=1\n",
    "\n",
    "f.close()\n",
    "\n",
    "print(d)"
   ]
  },
  {
   "cell_type": "markdown",
   "id": "9c39658d",
   "metadata": {},
   "source": [
    "## 문제2"
   ]
  },
  {
   "cell_type": "code",
   "execution_count": 7,
   "id": "13c31f32",
   "metadata": {},
   "outputs": [
    {
     "name": "stdout",
     "output_type": "stream",
     "text": [
      "Enter a file name:test.txt\n",
      "FIRST LINE\n",
      "SECOND LINE\n",
      "THIRD LINE"
     ]
    }
   ],
   "source": [
    "import os\n",
    "\n",
    "file_name = input(\"Enter a file name:\")\n",
    "\n",
    "if os.path.exists(file_name):\n",
    "    f = open(file_name, \"r\")\n",
    "    for line in f:\n",
    "        print(line.upper(), end=\"\")\n",
    "else:\n",
    "    print(\"파일이 존재하지 않습니다.\")"
   ]
  },
  {
   "cell_type": "markdown",
   "id": "eba2523c",
   "metadata": {},
   "source": [
    "## 문제4"
   ]
  },
  {
   "cell_type": "code",
   "execution_count": 19,
   "id": "47db43c9",
   "metadata": {},
   "outputs": [],
   "source": [
    "f1 = open(\"score.txt\",\"r\")\n",
    "f2 = open(\"report.txt\",'w')\n",
    "\n",
    "for line in f1:\n",
    "    id_, mid, fin = line.split()\n",
    "    score = (int(mid)*4+int(fin)*6)/10\n",
    "    if score>=90:\n",
    "        result =  'A'\n",
    "    elif 90>score and score>=80:\n",
    "        result =  'B'\n",
    "    elif 80>score and score>=70:\n",
    "        result =  'C'\n",
    "    elif 70>score and score>=60:\n",
    "        result =  'D'\n",
    "    elif 60>score:\n",
    "        result =  'F'\n",
    "        \n",
    "    f2.write(\"{} {} {}  {}({})\\n\".format(id_,mid,fin,score,result))\n",
    "\n",
    "f1.close()\n",
    "f2.close()"
   ]
  },
  {
   "cell_type": "code",
   "execution_count": null,
   "id": "ec46e74b",
   "metadata": {},
   "outputs": [],
   "source": []
  }
 ],
 "metadata": {
  "kernelspec": {
   "display_name": "Python 3",
   "language": "python",
   "name": "python3"
  },
  "language_info": {
   "codemirror_mode": {
    "name": "ipython",
    "version": 3
   },
   "file_extension": ".py",
   "mimetype": "text/x-python",
   "name": "python",
   "nbconvert_exporter": "python",
   "pygments_lexer": "ipython3",
   "version": "3.8.8"
  }
 },
 "nbformat": 4,
 "nbformat_minor": 5
}
