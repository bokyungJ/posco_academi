{
 "cells": [
  {
   "cell_type": "markdown",
   "id": "152fe642",
   "metadata": {},
   "source": [
    "## 과제1 - prime.py"
   ]
  },
  {
   "cell_type": "code",
   "execution_count": 10,
   "id": "63045cea",
   "metadata": {},
   "outputs": [
    {
     "name": "stdout",
     "output_type": "stream",
     "text": [
      "13는 소수입니다.\n",
      "15는 소수가 아닙니다.\n"
     ]
    }
   ],
   "source": [
    "def check_prime(num):\n",
    "    for i in range(2, num):\n",
    "        if num%i==0:\n",
    "            return False\n",
    "    return True\n",
    "        \n",
    "def main():\n",
    "    a = 13\n",
    "    b = 15\n",
    "    \n",
    "    if check_prime(a):\n",
    "        print(str(a)+\"는 소수입니다.\")\n",
    "    else:\n",
    "        print(str(a)+\"는 소수가 아닙니다.\")\n",
    "    if check_prime(b):\n",
    "        print(str(b)+\"는 소수입니다.\")\n",
    "    else:\n",
    "        print(str(b)+\"는 소수가 아닙니다.\")\n",
    "\n",
    "main()"
   ]
  },
  {
   "cell_type": "markdown",
   "id": "ced5a463",
   "metadata": {},
   "source": [
    "## 과제2 - add_comma.py"
   ]
  },
  {
   "cell_type": "code",
   "execution_count": 18,
   "id": "3255f5b3",
   "metadata": {},
   "outputs": [
    {
     "name": "stdout",
     "output_type": "stream",
     "text": [
      "1,234\n",
      "12,345,678\n",
      "12\n"
     ]
    }
   ],
   "source": [
    "def add_comma(val):\n",
    "    val = str(val)\n",
    "    count = 0\n",
    "    for i in range(len(val),0,-1):\n",
    "        if count==3:\n",
    "            val = val[:i]+','+val[i:]\n",
    "            count=0\n",
    "        count+=1\n",
    "    return val\n",
    "        \n",
    "def main():\n",
    "    comma_added_1234 = add_comma(1234)\n",
    "    comma_added_12345678 = add_comma(12345678)\n",
    "    comma_added_12 = add_comma(12)\n",
    "    \n",
    "    print(comma_added_1234) # 1,234\n",
    "    print(comma_added_12345678) # 12,345,678\n",
    "    print(comma_added_12) # 12\n",
    "\n",
    "main()"
   ]
  },
  {
   "cell_type": "markdown",
   "id": "d5bfd39b",
   "metadata": {},
   "source": [
    "## 과제 3 - tok.py"
   ]
  },
  {
   "cell_type": "code",
   "execution_count": 34,
   "id": "e59a3e4b",
   "metadata": {
    "scrolled": true
   },
   "outputs": [
    {
     "name": "stdout",
     "output_type": "stream",
     "text": [
      "['There', 'was', 'a', 'farmer', 'who', 'had', 'a', 'dog', '.']\n",
      "['There was', 'was a', 'a farmer', 'farmer who', 'who had', 'had a', 'a dog', 'dog .']\n",
      "['There was a', 'was a farmer', 'a farmer who', 'farmer who had', 'who had a', 'had a dog', 'a dog .']\n"
     ]
    }
   ],
   "source": [
    "def tokenize(trg, N=1):\n",
    "    trg_token = trg.split()\n",
    "    n = N-1\n",
    "    result = []\n",
    "    for i in range(len(trg_token)-n):\n",
    "        sent = ''\n",
    "        for j in range(i,i+N):\n",
    "            if n==0 or j==i:\n",
    "                s = trg_token[j]\n",
    "            else:\n",
    "                s = ' '+trg_token[j]\n",
    "            sent+= s\n",
    "        result.append(sent)\n",
    "    return result\n",
    "\n",
    "def main():\n",
    "    a = \"There was a farmer who had a dog .\"\n",
    "    print(tokenize(a))\n",
    "    print(tokenize(a,2))\n",
    "    print(tokenize(a,3))\n",
    "\n",
    "main()"
   ]
  },
  {
   "cell_type": "markdown",
   "id": "2e24fb9c",
   "metadata": {},
   "source": [
    "## 과제 4 - mean_and_var.py"
   ]
  },
  {
   "cell_type": "code",
   "execution_count": 5,
   "id": "30da2fe4",
   "metadata": {},
   "outputs": [
    {
     "name": "stdout",
     "output_type": "stream",
     "text": [
      "평균:  [0.5, 0.5]\n",
      "분산:  [0.16666666666666666, 0.16666666666666666]\n"
     ]
    }
   ],
   "source": [
    "def mean_and_var(*val):\n",
    "    count = 0\n",
    "    \n",
    "    # 평균\n",
    "    x_sum = 0\n",
    "    y_sum = 0\n",
    "    for nums in val:\n",
    "        count+=1\n",
    "        x_sum += nums[0]\n",
    "        y_sum += nums[1]\n",
    "    mean_x = x_sum/count\n",
    "    mean_y = y_sum/count\n",
    "    \n",
    "    # 분산\n",
    "    x_var = 0\n",
    "    y_var = 0\n",
    "    for nums in val:\n",
    "        x_var += (mean_x-nums[0])**2\n",
    "        y_var += (mean_y-nums[1])**2\n",
    "    x_var /= count\n",
    "    y_var /= count\n",
    "    \n",
    "    return [mean_x,mean_y],[x_var,y_var]\n",
    "\n",
    "def main():\n",
    "    v1 = (0,1)\n",
    "    v2 = (0.5,0.5)\n",
    "    v3 = (1,0)\n",
    "    m,var = mean_and_var(v1,v2,v3)\n",
    "    print('평균: ',m)\n",
    "    print('분산: ',var)\n",
    "\n",
    "main()"
   ]
  },
  {
   "cell_type": "code",
   "execution_count": null,
   "id": "6403654e",
   "metadata": {},
   "outputs": [],
   "source": []
  }
 ],
 "metadata": {
  "kernelspec": {
   "display_name": "Python 3",
   "language": "python",
   "name": "python3"
  },
  "language_info": {
   "codemirror_mode": {
    "name": "ipython",
    "version": 3
   },
   "file_extension": ".py",
   "mimetype": "text/x-python",
   "name": "python",
   "nbconvert_exporter": "python",
   "pygments_lexer": "ipython3",
   "version": "3.8.8"
  }
 },
 "nbformat": 4,
 "nbformat_minor": 5
}
